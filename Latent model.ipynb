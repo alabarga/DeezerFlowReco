{
 "cells": [
  {
   "cell_type": "markdown",
   "metadata": {
    "deletable": true,
    "editable": true
   },
   "source": [
    "## Deezer"
   ]
  },
  {
   "cell_type": "code",
   "execution_count": 2,
   "metadata": {
    "collapsed": false,
    "deletable": true,
    "editable": true
   },
   "outputs": [
    {
     "name": "stderr",
     "output_type": "stream",
     "text": [
      "Using TensorFlow backend.\n"
     ]
    }
   ],
   "source": [
    "import numpy as np\n",
    "import pandas as pd\n",
    "import itertools\n",
    "import matplotlib.pyplot as plt\n",
    "%matplotlib inline\n",
    "\n",
    "from preprocessing.preprocessing import *\n",
    "from training.cv_split import train_split_2\n",
    "from collaborative_filtering.baseline_cf import BaselineCF\n",
    "from collaborative_filtering.ALS_func import convert_rdd, compute_y_pred\n",
    "\n",
    "from pyspark import SparkConf, SparkContext\n",
    "from pyspark.mllib.recommendation import ALS\n",
    "from pyspark.mllib.linalg.distributed import RowMatrix\n",
    "\n",
    "from sklearn.preprocessing import scale, MinMaxScaler\n",
    "from sklearn.ensemble import RandomForestClassifier\n",
    "from sklearn.metrics import roc_auc_score\n",
    "from sklearn.neural_network import MLPClassifier\n",
    "import xgboost as xgb\n",
    "from hyperopt import STATUS_OK, hp, fmin, tpe, Trials, space_eval\n",
    "\n",
    "from time import time\n",
    "\n",
    "from keras.models import Sequential\n",
    "from keras.layers import Dense, Dropout"
   ]
  },
  {
   "cell_type": "code",
   "execution_count": 3,
   "metadata": {
    "collapsed": false,
    "deletable": true,
    "editable": true
   },
   "outputs": [],
   "source": [
    "train = pd.read_csv('./data/train.csv')\n",
    "test = pd.read_csv('./data/test.csv')\n",
    "\n",
    "random_seed = 8"
   ]
  },
  {
   "cell_type": "code",
   "execution_count": 4,
   "metadata": {
    "collapsed": false,
    "deletable": true,
    "editable": true
   },
   "outputs": [],
   "source": [
    "full_preprocessing(train)\n",
    "full_preprocessing(test)"
   ]
  },
  {
   "cell_type": "code",
   "execution_count": 5,
   "metadata": {
    "collapsed": false,
    "deletable": true,
    "editable": true
   },
   "outputs": [],
   "source": [
    "submitting = False\n",
    "\n",
    "if not submitting:\n",
    "    train = train[:1000000]\n",
    "    \n",
    "    # Nb of songs in the test set for each user\n",
    "    nb_songs = 10\n",
    "    train_f , test_f = train_split_2(train, nb_songs)"
   ]
  },
  {
   "cell_type": "markdown",
   "metadata": {
    "deletable": true,
    "editable": true
   },
   "source": [
    "### Baseline CF"
   ]
  },
  {
   "cell_type": "code",
   "execution_count": 6,
   "metadata": {
    "collapsed": false,
    "deletable": true,
    "editable": true
   },
   "outputs": [
    {
     "name": "stdout",
     "output_type": "stream",
     "text": [
      "Validation score: 0.735716091076\n",
      "Training score: 0.820380850078\n"
     ]
    }
   ],
   "source": [
    "baseline_CF = BaselineCF()\n",
    "\n",
    "baseline_CF.fit(train_f)\n",
    "\n",
    "validation_score = roc_auc_score(test_f['is_listened'], baseline_CF.predict(test_f))\n",
    "print('Validation score: {0}'.format(validation_score))\n",
    "\n",
    "train_score = roc_auc_score(train_f['is_listened'], \n",
    "                            baseline_CF.predict(train_f))\n",
    "print('Training score: {0}'.format(train_score))"
   ]
  },
  {
   "cell_type": "markdown",
   "metadata": {
    "deletable": true,
    "editable": true
   },
   "source": [
    "## Low rank matrix factorisation"
   ]
  },
  {
   "cell_type": "code",
   "execution_count": 7,
   "metadata": {
    "collapsed": false,
    "deletable": true,
    "editable": true
   },
   "outputs": [],
   "source": [
    "# Spark parameters\n",
    "conf = SparkConf().set(\"spark.executor.memory\", \"2g\")\n",
    "sc = SparkContext(conf=conf)\n",
    "\n",
    "if (submitting):\n",
    "    train_f = train.copy()\n",
    "train = []"
   ]
  },
  {
   "cell_type": "code",
   "execution_count": 8,
   "metadata": {
    "collapsed": false,
    "deletable": true,
    "editable": true
   },
   "outputs": [
    {
     "name": "stdout",
     "output_type": "stream",
     "text": [
      "17710 users\n",
      "46352 items\n"
     ]
    }
   ],
   "source": [
    "item_id = 'media_id'\n",
    "user_mean_dict = train_f.groupby('user_id')['is_listened'].mean().to_dict()\n",
    "item_mean_dict = train_f.groupby(item_id)['is_listened'].mean().to_dict()\n",
    "\n",
    "implicit = False\n",
    "\n",
    "if (implicit):\n",
    "    train_f_2 = train_f.copy()\n",
    "    train_f_2.loc[train_f_2['is_listened'] == 0, 'is_listened'] = -1\n",
    "    train_f_agg = train_f_2.groupby(['user_id', item_id])['is_listened'].sum().reset_index()\n",
    "    train_f_2 = []\n",
    "else:\n",
    "    # Group by mean of 'is_listened' of the same songs listened by the same users\n",
    "    # Note that spark automatically takes the mean when given \n",
    "    # duplicate (user_id, item_id) pairs\n",
    "    train_f_agg = train_f.groupby(['user_id', item_id])['is_listened'].mean().reset_index()\n",
    "\n",
    "if (submitting):\n",
    "    test_f = test.copy()\n",
    "    # Need a column 'is_listened' in convert_rdd\n",
    "    test_f['is_listened'] = 0\n",
    "test = []\n",
    "\n",
    "\n",
    "iterations = 20\n",
    "rank = 20\n",
    "\n",
    "train_f_rdd = convert_rdd(train_f_agg, sc, item_id=item_id)\n",
    "test_f_rdd = convert_rdd(test_f, sc, item_id=item_id)\n",
    "\n",
    "if (implicit):\n",
    "    lmbda = 0.01\n",
    "    alpha = 50.\n",
    "    model = ALS.trainImplicit(train_f_rdd, rank=rank,\n",
    "                              iterations=iterations, lambda_=lmbda, \n",
    "                              alpha=alpha, seed=random_seed)\n",
    "else:\n",
    "    lmbda = 0.01\n",
    "    model = ALS.train(train_f_rdd, rank=rank,\n",
    "                      iterations=iterations, lambda_=lmbda, \n",
    "                      seed=random_seed)\n",
    "\n",
    "print('{0} users'.format(model.userFeatures().count()))\n",
    "print('{0} items'.format(model.productFeatures().count()))"
   ]
  },
  {
   "cell_type": "code",
   "execution_count": 9,
   "metadata": {
    "collapsed": false,
    "deletable": true,
    "editable": true
   },
   "outputs": [
    {
     "name": "stdout",
     "output_type": "stream",
     "text": [
      "0.695402986348\n"
     ]
    }
   ],
   "source": [
    "# Test data without its last element for predictAll\n",
    "test_f_rdd_X = test_f_rdd.map(lambda r: (r[0], r[1]))\n",
    "predictions = model.predictAll(test_f_rdd_X).map(lambda r: ((r[0], r[1]), r[2]))\n",
    "\n",
    "# Prediction with ALS\n",
    "test_f_pred = compute_y_pred(test_f, predictions, item_id, user_mean_dict)\n",
    "\n",
    "if not (submitting):\n",
    "    print(roc_auc_score(test_f_pred['is_listened'], test_f_pred['is_listened_pred']))"
   ]
  },
  {
   "cell_type": "code",
   "execution_count": 10,
   "metadata": {
    "collapsed": false,
    "deletable": true,
    "editable": true
   },
   "outputs": [
    {
     "name": "stdout",
     "output_type": "stream",
     "text": [
      "(17710, 20)\n",
      "(46352, 20)\n"
     ]
    }
   ],
   "source": [
    "user_features = np.asarray(model.userFeatures().map(lambda r: r[1]).collect())\n",
    "print(user_features.shape)\n",
    "\n",
    "item_features = np.asarray(model.productFeatures().map(lambda r: r[1]).collect())\n",
    "print(item_features.shape)\n",
    "\n",
    "user_id_list = np.asarray(model.userFeatures().map(lambda r: r[0]).collect())\n",
    "item_id_list = np.asarray(model.productFeatures().map(lambda r: r[0]).collect())\n",
    "\n",
    "sc.stop()"
   ]
  },
  {
   "cell_type": "markdown",
   "metadata": {
    "deletable": true,
    "editable": true
   },
   "source": [
    "## Incorporating user/media preferences"
   ]
  },
  {
   "cell_type": "code",
   "execution_count": 11,
   "metadata": {
    "collapsed": false,
    "deletable": true,
    "editable": true
   },
   "outputs": [],
   "source": [
    "global_baseline = train_f['is_listened'].mean()\n",
    "\n",
    "def compute_means(X, user_mean_dict, item_mean_dict, item_id, global_baseline):\n",
    "    X['user_mean'] = X['user_id'].map(user_mean_dict).fillna(global_baseline)\n",
    "    column_name = item_id[:len(item_id) - len('id')] + 'mean'\n",
    "    X[column_name] = X[item_id].map(item_mean_dict).fillna(global_baseline)\n",
    "\n",
    "compute_means(train_f, user_mean_dict, item_mean_dict, item_id, global_baseline)\n",
    "compute_means(test_f, user_mean_dict, item_mean_dict, item_id, global_baseline)\n",
    "\n",
    "def user_latent_features(X, user_features, user_id_list):\n",
    "    # Number of latent features\n",
    "    p = user_features.shape[1]\n",
    "    \n",
    "    for i in range(p):\n",
    "        l_feature_dict = dict(zip(user_id_list, user_features[:, i]))\n",
    "        X['latent_user_' + str(i)] = X['user_id'].map(l_feature_dict).fillna(0)\n",
    "\n",
    "user_latent_features(train_f, user_features, user_id_list)\n",
    "user_latent_features(test_f, user_features, user_id_list)\n",
    "\n",
    "def item_latent_features(X, item_features, item_id_list, item_id):\n",
    "    # Number of latent features\n",
    "    p = item_features.shape[1]\n",
    "    \n",
    "    for i in range(p):\n",
    "        l_feature_dict = dict(zip(item_id_list, item_features[:, i]))\n",
    "        X['latent_item_' + str(i)] = X[item_id].map(l_feature_dict).fillna(0)\n",
    "\n",
    "#item_latent_features(train_f, item_features, item_id_list, item_id)\n",
    "#item_latent_features(test_f, item_features, item_id_list, item_id)"
   ]
  },
  {
   "cell_type": "code",
   "execution_count": 12,
   "metadata": {
    "collapsed": true,
    "deletable": true,
    "editable": true
   },
   "outputs": [],
   "source": [
    "# Create rank of item_id, in [0, n_items[. 0 for highly popular songs\n",
    "item_id_df = pd.concat([train_f, test_f]).groupby(item_id)['ts_listen'].count().reset_index()\n",
    "item_id_df.sort_values(by='ts_listen', ascending=False, inplace=True)\n",
    "n_items = item_id_df.shape[0]\n",
    "item_id_dict = dict(zip(item_id_df[item_id].values, np.arange(n_items, dtype=int)))\n",
    "\n",
    "train_f['item_rank'] = train_f[item_id].map(item_id_dict)\n",
    "test_f['item_rank'] = test_f[item_id].map(item_id_dict)"
   ]
  },
  {
   "cell_type": "code",
   "execution_count": 13,
   "metadata": {
    "collapsed": false,
    "deletable": true,
    "editable": true
   },
   "outputs": [
    {
     "name": "stdout",
     "output_type": "stream",
     "text": [
      "(198203, 48)\n",
      "['genre_id', 'context_type', 'platform_name', 'platform_family', 'media_duration', 'listen_type', 'user_gender', 'user_id', 'user_age', 'year_listen', 'month_listen', 'day_listen', 'hour_listen', 'user_mean', 'media_mean', 'latent_user_0', 'latent_user_1', 'latent_user_2', 'latent_user_3', 'latent_user_4', 'latent_user_5', 'latent_user_6', 'latent_user_7', 'latent_user_8', 'latent_user_9', 'latent_user_10', 'latent_user_11', 'latent_user_12', 'latent_user_13', 'latent_user_14', 'latent_user_15', 'latent_user_16', 'latent_user_17', 'latent_user_18', 'latent_user_19', 'item_rank']\n"
     ]
    }
   ],
   "source": [
    "cols_excluded = (['ts_listen', 'media_id', 'album_id', 'release_date',\n",
    "                 'artist_id', 'ts_listen_fmt', 'is_listened', 'index',\n",
    "                 'release_date_year', 'release_date_month',\n",
    "                 'release_date_day', 'media_duration_categ']\n",
    "                )\n",
    "cols = [c for c in train_f.columns if c not in cols_excluded]\n",
    "\n",
    "train_f_flow = train_f[train_f['listen_type'] == 1]\n",
    "train_size = train_f_flow.shape[0]\n",
    "print(train_f_flow.shape)\n",
    "print(cols)"
   ]
  },
  {
   "cell_type": "code",
   "execution_count": 14,
   "metadata": {
    "collapsed": false,
    "deletable": true,
    "editable": true
   },
   "outputs": [],
   "source": [
    "# Merge data to standardise them\n",
    "merged_df = pd.concat([train_f_flow, test_f])\n",
    "merged_df.loc[:, cols] = scale(merged_df[cols])\n",
    "\n",
    "# Split data\n",
    "train_f_flow = merged_df[:train_size]\n",
    "test_f = merged_df[train_size:]"
   ]
  },
  {
   "cell_type": "code",
   "execution_count": 15,
   "metadata": {
    "collapsed": false,
    "deletable": true,
    "editable": true
   },
   "outputs": [
    {
     "name": "stdout",
     "output_type": "stream",
     "text": [
      "Max depth: 15\n",
      "Min samples leaf: 5\n",
      "Validation score: 0.769975079159\n",
      "Training score: 0.914078315502\n",
      "\n"
     ]
    }
   ],
   "source": [
    "########\n",
    "## RFC\n",
    "########\n",
    "min_samples_leaf_grid = [5]\n",
    "nb_trees = 100\n",
    "max_depth = 15\n",
    "\n",
    "for min_samples_leaf in min_samples_leaf_grid:\n",
    "    print('Max depth: {0}'.format(max_depth))\n",
    "    print('Min samples leaf: {0}'.format(min_samples_leaf))\n",
    "    \n",
    "    rfc = RandomForestClassifier(n_estimators=nb_trees,\n",
    "                                 max_depth=max_depth, \n",
    "                                 min_samples_leaf= min_samples_leaf,\n",
    "                                 random_state=random_seed)\n",
    "\n",
    "    rfc.fit(train_f_flow[cols], train_f_flow['is_listened'])\n",
    "        \n",
    "    score = roc_auc_score(test_f['is_listened'], \n",
    "                          rfc.predict_proba(test_f[cols])[:, 1])\n",
    "    print('Validation score: {0}'.format(score))\n",
    "\n",
    "    # Training AUC\n",
    "    train_score = roc_auc_score(train_f_flow['is_listened'], \n",
    "                                rfc.predict_proba(train_f_flow[cols])[:, 1])\n",
    "    print('Training score: {0}\\n'.format(train_score))"
   ]
  },
  {
   "cell_type": "code",
   "execution_count": 16,
   "metadata": {
    "collapsed": false,
    "deletable": true,
    "editable": true
   },
   "outputs": [
    {
     "data": {
      "text/plain": [
       "<matplotlib.axes._subplots.AxesSubplot at 0x10bbe3b10>"
      ]
     },
     "execution_count": 16,
     "metadata": {},
     "output_type": "execute_result"
    },
    {
     "data": {
      "image/png": "[encoded data removed]",
      "text/plain": [
       "<matplotlib.figure.Figure at 0x11cd85a10>"
      ]
     },
     "metadata": {},
     "output_type": "display_data"
    }
   ],
   "source": [
    "features_plot = pd.Series(rfc.feature_importances_, index=cols)\n",
    "features_plot.sort_values(inplace=True)\n",
    "features_plot.plot(kind='barh', figsize=(10, 10))"
   ]
  },
  {
   "cell_type": "code",
   "execution_count": 17,
   "metadata": {
    "collapsed": false,
    "deletable": true,
    "editable": true
   },
   "outputs": [
    {
     "data": {
      "image/png": "[encoded data removed]",
      "text/plain": [
       "<matplotlib.figure.Figure at 0x14868e690>"
      ]
     },
     "metadata": {},
     "output_type": "display_data"
    }
   ],
   "source": [
    "y_pred_rfc = rfc.predict_proba(test_f[cols])[:, 1]\n",
    "plt.hist(y_pred_rfc, bins=50)\n",
    "plt.show()"
   ]
  },
  {
   "cell_type": "code",
   "execution_count": 18,
   "metadata": {
    "collapsed": false,
    "deletable": true,
    "editable": true
   },
   "outputs": [],
   "source": [
    "########\n",
    "## XGB\n",
    "########\n",
    "nb_trees = 100\n",
    "early_stopping_rounds = 10\n",
    "\n",
    "# Scoring function in the hyperopt hyperparameters tuning.\n",
    "def scoring_function(parameters):\n",
    "    print(\"Training the model with parameters: \")\n",
    "    print(parameters)\n",
    "\n",
    "    D_train = xgb.DMatrix(train_f_flow[cols], label=train_f_flow['is_listened'])\n",
    "    D_validation = xgb.DMatrix(test_f[cols], label=test_f['is_listened'])\n",
    "\n",
    "    watchlist = [(D_train, 'Training'), (D_validation, 'Validation')]\n",
    "    xgb_model = xgb.train(parameters, D_train, nb_trees, watchlist, \n",
    "                          early_stopping_rounds=early_stopping_rounds,\n",
    "                          verbose_eval=10, maximize=True)\n",
    "\n",
    "    y_predict = xgb_model.predict(D_validation, ntree_limit=xgb_model.best_iteration)\n",
    "        \n",
    "    score = roc_auc_score(test_f['is_listened'], y_predict)\n",
    "\n",
    "    print(\"Cross-validation score: {0}\".format(score))\n",
    "    \n",
    "    return {\"loss\": 1 - score, \"status\": STATUS_OK}"
   ]
  },
  {
   "cell_type": "code",
   "execution_count": 19,
   "metadata": {
    "collapsed": false,
    "deletable": true,
    "editable": true
   },
   "outputs": [
    {
     "name": "stdout",
     "output_type": "stream",
     "text": [
      "Training the model with parameters: \n",
      "{'eta': 0.029999999999999999, 'silent': 0, 'eval_metric': 'auc', 'objective': 'binary:logistic', 'seed': 8, 'max_depth': 15, 'lambda': 22}\n",
      "[0]\tTraining-auc:0.867868\tValidation-auc:0.734228\n",
      "Multiple eval metrics have been passed: 'Validation-auc' will be used for early stopping.\n",
      "\n",
      "Will train until Validation-auc hasn't improved in 10 rounds.\n",
      "[10]\tTraining-auc:0.87945\tValidation-auc:0.74318\n",
      "[20]\tTraining-auc:0.884691\tValidation-auc:0.745553\n",
      "[30]\tTraining-auc:0.889492\tValidation-auc:0.746757\n",
      "[40]\tTraining-auc:0.894083\tValidation-auc:0.748116\n",
      "[50]\tTraining-auc:0.898439\tValidation-auc:0.748999\n",
      "[60]\tTraining-auc:0.902185\tValidation-auc:0.749635\n",
      "[70]\tTraining-auc:0.905752\tValidation-auc:0.749979\n",
      "[80]\tTraining-auc:0.908897\tValidation-auc:0.750584\n",
      "[90]\tTraining-auc:0.911841\tValidation-auc:0.751401\n",
      "[99]\tTraining-auc:0.9145\tValidation-auc:0.752009\n",
      "Cross-validation score: 0.751949158079\n",
      "Computing time: 70.7278761864s\n"
     ]
    }
   ],
   "source": [
    "t0 = time()\n",
    "\n",
    "# Grid to pick parameters from.\n",
    "parameters_grid = {\"eta\": hp.choice(\"eta\", np.array([0.03])),\n",
    "                   \"max_depth\": hp.choice(\"max_depth\", np.array([15], dtype=int)),\n",
    "                   #\"subsample\": hp.choice(\"subsample\", np.array([0.8])),\n",
    "                   \"lambda\": hp.choice(\"lambda\", np.array([22])),\n",
    "                   \"objective\": \"binary:logistic\",\n",
    "                   \"eval_metric\": \"auc\",\n",
    "                   \"silent\": 0,\n",
    "                   \"seed\": random_seed\n",
    "                  }\n",
    "# Record the information about the cross-validation.\n",
    "trials = Trials()\n",
    "\n",
    "best = fmin(scoring_function, parameters_grid, algo=tpe.suggest, max_evals=1, \n",
    "            trials=trials) \n",
    "\n",
    "print('Computing time: {0}s'.format(time() - t0))"
   ]
  },
  {
   "cell_type": "code",
   "execution_count": 20,
   "metadata": {
    "collapsed": false,
    "deletable": true,
    "editable": true
   },
   "outputs": [
    {
     "data": {
      "text/plain": [
       "0.75200873284308134"
      ]
     },
     "execution_count": 20,
     "metadata": {},
     "output_type": "execute_result"
    }
   ],
   "source": [
    "nb_trees = 100\n",
    "parameters = {\"eta\": 0.03,\n",
    "              \"max_depth\": 15,\n",
    "              \"lambda\": 22,\n",
    "              \"objective\": \"binary:logistic\",\n",
    "              \"eval_metric\": \"auc\",\n",
    "              \"silent\": 0,\n",
    "              \"seed\": random_seed\n",
    "              }\n",
    "\n",
    "D_train = xgb.DMatrix(train_f_flow[cols], label=train_f_flow['is_listened'])\n",
    "D_validation = xgb.DMatrix(test_f[cols], label=test_f['is_listened'])\n",
    "\n",
    "xgb_model = xgb.train(parameters, D_train, nb_trees)\n",
    "\n",
    "y_pred_xgb = xgb_model.predict(D_validation)\n",
    "        \n",
    "roc_auc_score(test_f['is_listened'], y_pred_xgb)"
   ]
  },
  {
   "cell_type": "code",
   "execution_count": 21,
   "metadata": {
    "collapsed": false,
    "deletable": true,
    "editable": true
   },
   "outputs": [
    {
     "data": {
      "image/png": "[encoded data removed]",
      "text/plain": [
       "<matplotlib.figure.Figure at 0x11ffc58d0>"
      ]
     },
     "metadata": {},
     "output_type": "display_data"
    }
   ],
   "source": [
    "plt.hist(y_pred_xgb, bins=50)\n",
    "plt.show()"
   ]
  },
  {
   "cell_type": "markdown",
   "metadata": {
    "deletable": true,
    "editable": true
   },
   "source": [
    "### Keras"
   ]
  },
  {
   "cell_type": "code",
   "execution_count": 22,
   "metadata": {
    "collapsed": false,
    "deletable": true,
    "editable": true
   },
   "outputs": [
    {
     "name": "stdout",
     "output_type": "stream",
     "text": [
      "Layer 1: 10\n",
      "Dropout rate: 0.2\n",
      "Number of epochs: 100\n",
      "Validation score: 0.750021765706\n",
      "Training score: 0.856407145019\n",
      "\n"
     ]
    }
   ],
   "source": [
    "layer1_grid = [10]\n",
    "dropout = 0.2\n",
    "epochs_grid = [100]\n",
    "\n",
    "scores = []\n",
    "\n",
    "for layer1 in layer1_grid:\n",
    "    for epochs in epochs_grid:\n",
    "        print('Layer 1: {0}'.format(layer1))\n",
    "        print('Dropout rate: {0}'.format(dropout))\n",
    "        print('Number of epochs: {0}'.format(epochs))\n",
    "        \n",
    "        dnn = Sequential()\n",
    "        dnn.add(Dense(layer1, activation='relu', input_shape=(len(cols),)))\n",
    "        dnn.add(Dropout(dropout))\n",
    "        dnn.add(Dense(1, activation='sigmoid'))\n",
    "        dnn.compile(optimizer='rmsprop',\n",
    "                    loss='binary_crossentropy',\n",
    "                    metrics=['accuracy'])\n",
    "\n",
    "        dnn.fit(train_f_flow[cols].values, train_f_flow['is_listened'].values,\n",
    "                epochs=epochs, batch_size=128, verbose=0)\n",
    "\n",
    "        score = roc_auc_score(test_f['is_listened'], dnn.predict(test_f[cols].values)[:, 0])\n",
    "        scores.append(score)\n",
    "        print('Validation score: {0}'.format(score))\n",
    "\n",
    "        training_score = roc_auc_score(train_f_flow['is_listened'], dnn.predict(train_f_flow[cols].values)[:, 0])\n",
    "        print('Training score: {0}\\n'.format(training_score))\n",
    "\n",
    "y_pred_dnn = dnn.predict(test_f[cols].values)[:, 0]"
   ]
  },
  {
   "cell_type": "code",
   "execution_count": 23,
   "metadata": {
    "collapsed": false,
    "deletable": true,
    "editable": true
   },
   "outputs": [
    {
     "data": {
      "image/png": "[encoded data removed]",
      "text/plain": [
       "<matplotlib.figure.Figure at 0x125265ed0>"
      ]
     },
     "metadata": {},
     "output_type": "display_data"
    }
   ],
   "source": [
    "plt.hist(y_pred_dnn, bins=50)\n",
    "plt.show()"
   ]
  },
  {
   "cell_type": "markdown",
   "metadata": {
    "deletable": true,
    "editable": true
   },
   "source": [
    "### Predicting"
   ]
  },
  {
   "cell_type": "code",
   "execution_count": 12,
   "metadata": {
    "collapsed": false,
    "deletable": true,
    "editable": true
   },
   "outputs": [
    {
     "name": "stdout",
     "output_type": "stream",
     "text": [
      "Training RFC...\n",
      "Finished RFC\n",
      "\n",
      "Training Xgboost...\n",
      "Finished Xgboost\n",
      "\n"
     ]
    }
   ],
   "source": [
    "t0 = time()\n",
    "\n",
    "print('Training RFC...')\n",
    "########\n",
    "## RFC\n",
    "########\n",
    "nb_trees = 100\n",
    "max_depth = 15\n",
    "min_samples_leaf = 5\n",
    "\n",
    "rfc = RandomForestClassifier(n_estimators=nb_trees,\n",
    "                             max_depth=max_depth,\n",
    "                             min_samples_leaf=min_samples_leaf,\n",
    "                             random_state=random_seed)\n",
    "\n",
    "rfc.fit(train_f_flow[cols], train_f_flow['is_listened'])\n",
    "        \n",
    "y_pred_rfc = rfc.predict_proba(test_f[cols])[:, 1]\n",
    "\n",
    "print('Finished RFC\\n')\n",
    "print('Training Xgboost...')\n",
    "\n",
    "########\n",
    "## XGB\n",
    "########\n",
    "nb_trees = 100\n",
    "parameters = {\"eta\": 0.03,\n",
    "              \"max_depth\": 15,\n",
    "              \"lambda\": 10,\n",
    "              \"objective\": \"binary:logistic\",\n",
    "              \"eval_metric\": \"auc\",\n",
    "              \"silent\": 0,\n",
    "              \"seed\": random_seed\n",
    "              }\n",
    "\n",
    "D_train = xgb.DMatrix(train_f_flow[cols], label=train_f_flow['is_listened'])\n",
    "D_validation = xgb.DMatrix(test_f[cols], label=test_f['is_listened'])\n",
    "\n",
    "xgb_model = xgb.train(parameters, D_train, nb_trees)\n",
    "\n",
    "y_pred_xgb = xgb_model.predict(D_validation)\n",
    "\n",
    "print('Finished Xgboost\\n')"
   ]
  },
  {
   "cell_type": "code",
   "execution_count": 13,
   "metadata": {
    "collapsed": true,
    "deletable": true,
    "editable": true
   },
   "outputs": [],
   "source": [
    "rfc_weight = 0.5\n",
    "y_pred_combined = rfc_weight * y_pred_rfc + (1 - rfc_weight) * y_pred_xgb"
   ]
  },
  {
   "cell_type": "code",
   "execution_count": 14,
   "metadata": {
    "collapsed": false,
    "deletable": true,
    "editable": true
   },
   "outputs": [],
   "source": [
    "test_f['is_listened'] = y_pred_combined \n",
    "\n",
    "test_f[['sample_id', 'is_listened']].to_csv('RFC_depth_15_samples_5_xgb_weight05_implicit.csv',\n",
    "                                            index=False)"
   ]
  },
  {
   "cell_type": "code",
   "execution_count": null,
   "metadata": {
    "collapsed": true,
    "deletable": true,
    "editable": true
   },
   "outputs": [],
   "source": []
  }
 ],
 "metadata": {
  "kernelspec": {
   "display_name": "Python 2",
   "language": "python",
   "name": "python2"
  },
  "language_info": {
   "codemirror_mode": {
    "name": "ipython",
    "version": 2
   },
   "file_extension": ".py",
   "mimetype": "text/x-python",
   "name": "python",
   "nbconvert_exporter": "python",
   "pygments_lexer": "ipython2",
   "version": "2.7.13"
  }
 },
 "nbformat": 4,
 "nbformat_minor": 2
}
