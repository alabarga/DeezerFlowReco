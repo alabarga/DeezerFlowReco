{
 "cells": [
  {
   "cell_type": "code",
   "execution_count": 1,
   "metadata": {
    "collapsed": true,
    "deletable": true,
    "editable": true
   },
   "outputs": [],
   "source": [
    "import numpy as np\n",
    "import pandas as pd\n",
    "import json\n",
    "import datetime\n",
    "\n",
    "import matplotlib.pyplot as plt\n",
    "%matplotlib inline\n",
    "import seaborn as sns"
   ]
  },
  {
   "cell_type": "code",
   "execution_count": 2,
   "metadata": {
    "collapsed": true,
    "deletable": true,
    "editable": true
   },
   "outputs": [],
   "source": [
    " ########\n",
    "##TODO\n",
    "########\n",
    "\n",
    "# Analyse the language of the song. Most people only listen to songs in their language or in english\n",
    "# Parse the release_date\n",
    "# Investigate the different context_type, platform_name and platform_family\n",
    "# Create a user-song matrix to infer ratings and features for each song\n",
    "# Create a feature giving the period of the day (morning, lunch time, afternoon etc.)\n",
    "# Find the artist/song popularity"
   ]
  },
  {
   "cell_type": "code",
   "execution_count": 3,
   "metadata": {
    "collapsed": false,
    "deletable": true,
    "editable": true
   },
   "outputs": [],
   "source": [
    "train = pd.read_csv('train.csv')\n",
    "test = pd.read_csv('test.csv')"
   ]
  },
  {
   "cell_type": "code",
   "execution_count": 4,
   "metadata": {
    "collapsed": false,
    "deletable": true,
    "editable": true
   },
   "outputs": [
    {
     "data": {
      "text/html": [
       "<div>\n",
       "<table border=\"1\" class=\"dataframe\">\n",
       "  <thead>\n",
       "    <tr style=\"text-align: right;\">\n",
       "      <th></th>\n",
       "      <th>genre_id</th>\n",
       "      <th>ts_listen</th>\n",
       "      <th>media_id</th>\n",
       "      <th>album_id</th>\n",
       "      <th>context_type</th>\n",
       "      <th>release_date</th>\n",
       "      <th>platform_name</th>\n",
       "      <th>platform_family</th>\n",
       "      <th>media_duration</th>\n",
       "      <th>listen_type</th>\n",
       "      <th>user_gender</th>\n",
       "      <th>user_id</th>\n",
       "      <th>artist_id</th>\n",
       "      <th>user_age</th>\n",
       "      <th>is_listened</th>\n",
       "    </tr>\n",
       "  </thead>\n",
       "  <tbody>\n",
       "    <tr>\n",
       "      <th>0</th>\n",
       "      <td>25471</td>\n",
       "      <td>1480597215</td>\n",
       "      <td>222606</td>\n",
       "      <td>41774</td>\n",
       "      <td>12</td>\n",
       "      <td>20040704</td>\n",
       "      <td>1</td>\n",
       "      <td>0</td>\n",
       "      <td>223</td>\n",
       "      <td>0</td>\n",
       "      <td>0</td>\n",
       "      <td>9241</td>\n",
       "      <td>55164</td>\n",
       "      <td>29</td>\n",
       "      <td>0</td>\n",
       "    </tr>\n",
       "    <tr>\n",
       "      <th>1</th>\n",
       "      <td>25571</td>\n",
       "      <td>1480544735</td>\n",
       "      <td>250467</td>\n",
       "      <td>43941</td>\n",
       "      <td>0</td>\n",
       "      <td>20060301</td>\n",
       "      <td>2</td>\n",
       "      <td>1</td>\n",
       "      <td>171</td>\n",
       "      <td>0</td>\n",
       "      <td>0</td>\n",
       "      <td>16547</td>\n",
       "      <td>55830</td>\n",
       "      <td>30</td>\n",
       "      <td>1</td>\n",
       "    </tr>\n",
       "    <tr>\n",
       "      <th>2</th>\n",
       "      <td>16</td>\n",
       "      <td>1479563953</td>\n",
       "      <td>305197</td>\n",
       "      <td>48078</td>\n",
       "      <td>1</td>\n",
       "      <td>20140714</td>\n",
       "      <td>2</td>\n",
       "      <td>1</td>\n",
       "      <td>149</td>\n",
       "      <td>1</td>\n",
       "      <td>1</td>\n",
       "      <td>7665</td>\n",
       "      <td>2704</td>\n",
       "      <td>29</td>\n",
       "      <td>1</td>\n",
       "    </tr>\n",
       "    <tr>\n",
       "      <th>3</th>\n",
       "      <td>7</td>\n",
       "      <td>1480152098</td>\n",
       "      <td>900502</td>\n",
       "      <td>71521</td>\n",
       "      <td>0</td>\n",
       "      <td>20001030</td>\n",
       "      <td>0</td>\n",
       "      <td>0</td>\n",
       "      <td>240</td>\n",
       "      <td>0</td>\n",
       "      <td>1</td>\n",
       "      <td>1580</td>\n",
       "      <td>938</td>\n",
       "      <td>30</td>\n",
       "      <td>0</td>\n",
       "    </tr>\n",
       "    <tr>\n",
       "      <th>4</th>\n",
       "      <td>7</td>\n",
       "      <td>1478368974</td>\n",
       "      <td>542335</td>\n",
       "      <td>71718</td>\n",
       "      <td>0</td>\n",
       "      <td>20080215</td>\n",
       "      <td>0</td>\n",
       "      <td>0</td>\n",
       "      <td>150</td>\n",
       "      <td>0</td>\n",
       "      <td>1</td>\n",
       "      <td>1812</td>\n",
       "      <td>2939</td>\n",
       "      <td>24</td>\n",
       "      <td>1</td>\n",
       "    </tr>\n",
       "  </tbody>\n",
       "</table>\n",
       "</div>"
      ],
      "text/plain": [
       "   genre_id   ts_listen  media_id  album_id  context_type  release_date  \\\n",
       "0     25471  1480597215    222606     41774            12      20040704   \n",
       "1     25571  1480544735    250467     43941             0      20060301   \n",
       "2        16  1479563953    305197     48078             1      20140714   \n",
       "3         7  1480152098    900502     71521             0      20001030   \n",
       "4         7  1478368974    542335     71718             0      20080215   \n",
       "\n",
       "   platform_name  platform_family  media_duration  listen_type  user_gender  \\\n",
       "0              1                0             223            0            0   \n",
       "1              2                1             171            0            0   \n",
       "2              2                1             149            1            1   \n",
       "3              0                0             240            0            1   \n",
       "4              0                0             150            0            1   \n",
       "\n",
       "   user_id  artist_id  user_age  is_listened  \n",
       "0     9241      55164        29            0  \n",
       "1    16547      55830        30            1  \n",
       "2     7665       2704        29            1  \n",
       "3     1580        938        30            0  \n",
       "4     1812       2939        24            1  "
      ]
     },
     "execution_count": 4,
     "metadata": {},
     "output_type": "execute_result"
    }
   ],
   "source": [
    "train.head()"
   ]
  },
  {
   "cell_type": "code",
   "execution_count": 5,
   "metadata": {
    "collapsed": false,
    "deletable": true,
    "editable": true
   },
   "outputs": [
    {
     "data": {
      "text/plain": [
       "0.30687418191747562"
      ]
     },
     "execution_count": 5,
     "metadata": {},
     "output_type": "execute_result"
    }
   ],
   "source": [
    "train['listen_type'].mean()"
   ]
  },
  {
   "cell_type": "code",
   "execution_count": 6,
   "metadata": {
    "collapsed": false,
    "deletable": true,
    "editable": true
   },
   "outputs": [
    {
     "data": {
      "text/plain": [
       "132434634    20148\n",
       "133165774    17652\n",
       "132123604    16289\n",
       "132123626    15131\n",
       "132123630    14347\n",
       "129632340    13076\n",
       "131576046    12709\n",
       "132614858    12394\n",
       "134748108    12257\n",
       "133661814    11663\n",
       "Name: media_id, dtype: int64"
      ]
     },
     "execution_count": 6,
     "metadata": {},
     "output_type": "execute_result"
    }
   ],
   "source": [
    "# Count per songs\n",
    "pd.value_counts(train['media_id']).head(10)"
   ]
  },
  {
   "cell_type": "code",
   "execution_count": 7,
   "metadata": {
    "collapsed": false,
    "deletable": true,
    "editable": true
   },
   "outputs": [
    {
     "data": {
      "text/plain": [
       "0    6317\n",
       "1    6240\n",
       "2    6211\n",
       "3    5581\n",
       "4    5426\n",
       "5    5400\n",
       "6    5398\n",
       "7    5237\n",
       "8    5185\n",
       "9    4989\n",
       "Name: user_id, dtype: int64"
      ]
     },
     "execution_count": 7,
     "metadata": {},
     "output_type": "execute_result"
    }
   ],
   "source": [
    "# Count per users\n",
    "pd.value_counts(train['user_id']).head(10)"
   ]
  },
  {
   "cell_type": "code",
   "execution_count": 8,
   "metadata": {
    "collapsed": false,
    "deletable": true,
    "editable": true
   },
   "outputs": [],
   "source": [
    "# Import the extra infos about each song\n",
    "extra_infos = []\n",
    "with open('extra_infos.json') as json_file:\n",
    "    for line in json_file:\n",
    "        extra_infos.append(json.loads(line))"
   ]
  },
  {
   "cell_type": "code",
   "execution_count": 9,
   "metadata": {
    "collapsed": false,
    "deletable": true,
    "editable": true
   },
   "outputs": [
    {
     "data": {
      "text/plain": [
       "[{u'alb_title': u'El Son de Cuba',\n",
       "  u'art_name': u'Septeto Nacional De Ignacio Pineiro',\n",
       "  u'media_id': 213952,\n",
       "  u'sng_title': u'Maria Cristina'},\n",
       " {u'alb_title': u'Sounds from the fourth world',\n",
       "  u'art_name': u'Calvin Russell',\n",
       "  u'media_id': 223014,\n",
       "  u'sng_title': u'Love stealer'}]"
      ]
     },
     "execution_count": 9,
     "metadata": {},
     "output_type": "execute_result"
    }
   ],
   "source": [
    "extra_infos[:2]"
   ]
  },
  {
   "cell_type": "code",
   "execution_count": 10,
   "metadata": {
    "collapsed": false,
    "deletable": true,
    "editable": true
   },
   "outputs": [],
   "source": [
    "# Convert timestamp (ts_listen)\n",
    "def convert_ts(ts):\n",
    "    formatted_date = datetime.datetime.fromtimestamp(\n",
    "        ts).strftime('%Y-%m-%d %H:%M:%S')\n",
    "    return(formatted_date)\n",
    "\n",
    "def parse_ts(X):\n",
    "    X['ts_listen_fmt'] = X['ts_listen'].map(convert_ts)\n",
    "\n",
    "    # Parse year/month/day/hour\n",
    "    X['year_listen'] = pd.DatetimeIndex(X['ts_listen_fmt']).year\n",
    "    X['month_listen'] = pd.DatetimeIndex(X['ts_listen_fmt']).month\n",
    "    X['day_listen'] = pd.DatetimeIndex(X['ts_listen_fmt']).day\n",
    "    X['hour_listen'] = pd.DatetimeIndex(X['ts_listen_fmt']).hour\n",
    "    \n",
    "parse_ts(train)\n",
    "parse_ts(test)"
   ]
  },
  {
   "cell_type": "code",
   "execution_count": 11,
   "metadata": {
    "collapsed": false,
    "deletable": true,
    "editable": true
   },
   "outputs": [
    {
     "data": {
      "text/plain": [
       "67"
      ]
     },
     "execution_count": 11,
     "metadata": {},
     "output_type": "execute_result"
    }
   ],
   "source": [
    "# All but 67 users have their listening history in a single year.\n",
    "sum(train.groupby('user_id')['year_listen'].nunique() >= 2)"
   ]
  },
  {
   "cell_type": "code",
   "execution_count": 12,
   "metadata": {
    "collapsed": false
   },
   "outputs": [
    {
     "data": {
      "text/plain": [
       "6919"
      ]
     },
     "execution_count": 12,
     "metadata": {},
     "output_type": "execute_result"
    }
   ],
   "source": [
    "# All but 6919 users have their listening history in a single month.\n",
    "sum(train.groupby('user_id')['month_listen'].nunique() >= 2)"
   ]
  },
  {
   "cell_type": "code",
   "execution_count": 13,
   "metadata": {
    "collapsed": false,
    "deletable": true,
    "editable": true
   },
   "outputs": [
    {
     "data": {
      "text/plain": [
       "array([2016, 1980, 1970, 2012, 2008, 2015, 2013, 2009, 1996, 2010, 2011,\n",
       "       2001, 2014])"
      ]
     },
     "execution_count": 13,
     "metadata": {},
     "output_type": "execute_result"
    }
   ],
   "source": [
    "train['year_listen'].unique()"
   ]
  },
  {
   "cell_type": "code",
   "execution_count": 14,
   "metadata": {
    "collapsed": false,
    "deletable": true,
    "editable": true
   },
   "outputs": [
    {
     "data": {
      "image/png": "[encoded data removed]",
      "text/plain": [
       "<matplotlib.figure.Figure at 0x1344f3f50>"
      ]
     },
     "metadata": {},
     "output_type": "display_data"
    }
   ],
   "source": [
    "plt.plot(train.groupby('user_id')['is_listened'].count())\n",
    "plt.xlabel('User ID')\n",
    "plt.ylabel('Number of songs listened')\n",
    "plt.title('Songs count by user ID')\n",
    "plt.show()"
   ]
  },
  {
   "cell_type": "markdown",
   "metadata": {
    "deletable": true,
    "editable": true
   },
   "source": [
    "The user ID was created with the ranking giving how many songs each user has listened to."
   ]
  },
  {
   "cell_type": "code",
   "execution_count": 15,
   "metadata": {
    "collapsed": false,
    "deletable": true,
    "editable": true
   },
   "outputs": [
    {
     "data": {
      "text/plain": [
       "0"
      ]
     },
     "execution_count": 15,
     "metadata": {},
     "output_type": "execute_result"
    }
   ],
   "source": [
    "# Is the test set posterior to the train set ?\n",
    "train_gb = train.groupby('user_id')['ts_listen'].last().reset_index()\n",
    "test = test.merge(train_gb, how='left', on=['user_id'], suffixes=['', '_train'])\n",
    "\n",
    "sum(test['ts_listen'] <= test['ts_listen_train'])"
   ]
  },
  {
   "cell_type": "markdown",
   "metadata": {
    "deletable": true,
    "editable": true
   },
   "source": [
    "The test set suggested songs are posterior to the train set."
   ]
  },
  {
   "cell_type": "code",
   "execution_count": 16,
   "metadata": {
    "collapsed": false,
    "deletable": true,
    "editable": true
   },
   "outputs": [
    {
     "name": "stdout",
     "output_type": "stream",
     "text": [
      "Songs are listened 68% of the time on average.\n",
      "First songs are listened 18% of the time on average (Flow).\n"
     ]
    }
   ],
   "source": [
    "print('Songs are listened {0:.0f}% of the time on average.'.format(100 * train['is_listened'].mean()))\n",
    "\n",
    "print('First songs are listened {0:.0f}% of the time on average (Flow).'\\\n",
    "      .format(100 * (train['is_listened'] * train['listen_type']).mean()))"
   ]
  },
  {
   "cell_type": "code",
   "execution_count": 17,
   "metadata": {
    "collapsed": true,
    "deletable": true,
    "editable": true
   },
   "outputs": [],
   "source": [
    "train['is_listened_flow'] = train['listen_type'] * train['is_listened']"
   ]
  },
  {
   "cell_type": "code",
   "execution_count": 18,
   "metadata": {
    "collapsed": false,
    "deletable": true,
    "editable": true
   },
   "outputs": [
    {
     "data": {
      "text/plain": [
       "<matplotlib.axes._subplots.AxesSubplot at 0x11cbdfe10>"
      ]
     },
     "execution_count": 18,
     "metadata": {},
     "output_type": "execute_result"
    },
    {
     "data": {
      "image/png": "[encoded data removed]",
      "text/plain": [
       "<matplotlib.figure.Figure at 0x11d385d10>"
      ]
     },
     "metadata": {},
     "output_type": "display_data"
    }
   ],
   "source": [
    "train[train['user_id'] == 40].plot(x='hour_listen', y='is_listened_flow', \n",
    "                                   kind='scatter', xlim=(0, 24), ylim=(0, 1))"
   ]
  },
  {
   "cell_type": "markdown",
   "metadata": {
    "deletable": true,
    "editable": true
   },
   "source": [
    "Some moments in the day are more conducive to flow listening."
   ]
  },
  {
   "cell_type": "code",
   "execution_count": 19,
   "metadata": {
    "collapsed": false,
    "deletable": true,
    "editable": true
   },
   "outputs": [
    {
     "name": "stdout",
     "output_type": "stream",
     "text": [
      "34\n"
     ]
    }
   ],
   "source": [
    "count = 0\n",
    "nb_match = 0\n",
    "while (count < 100):\n",
    "    line = test.iloc[count]\n",
    "    nb_match += line['media_id'] in train[train['user_id'] == line['user_id']]['media_id'].values\n",
    "    count += 1\n",
    "print nb_match"
   ]
  },
  {
   "cell_type": "markdown",
   "metadata": {
    "deletable": true,
    "editable": true
   },
   "source": [
    "The suggested songs can be songs the user has already listened to."
   ]
  },
  {
   "cell_type": "code",
   "execution_count": null,
   "metadata": {
    "collapsed": true,
    "deletable": true,
    "editable": true
   },
   "outputs": [],
   "source": []
  }
 ],
 "metadata": {
  "kernelspec": {
   "display_name": "Python 2",
   "language": "python",
   "name": "python2"
  },
  "language_info": {
   "codemirror_mode": {
    "name": "ipython",
    "version": 2
   },
   "file_extension": ".py",
   "mimetype": "text/x-python",
   "name": "python",
   "nbconvert_exporter": "python",
   "pygments_lexer": "ipython2",
   "version": "2.7.13"
  }
 },
 "nbformat": 4,
 "nbformat_minor": 2
}
